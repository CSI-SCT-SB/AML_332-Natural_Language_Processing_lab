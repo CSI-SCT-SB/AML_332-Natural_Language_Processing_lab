{
 "cells": [
  {
   "cell_type": "code",
   "execution_count": 1,
   "id": "20c80d30",
   "metadata": {},
   "outputs": [],
   "source": [
    "import nltk\n",
    "from nltk.tokenize import sent_tokenize\n",
    "from nltk.corpus import movie_reviews\n",
    "from nltk.corpus import stopwords\n",
    "from nltk.stem import WordNetLemmatizer\n",
    "from sklearn.feature_extraction.text import CountVectorizer\n",
    "from sklearn.naive_bayes import MultinomialNB\n",
    "from sklearn.metrics import accuracy_score\n",
    "from sklearn.model_selection import train_test_split\n",
    "\n",
    "def preprocess(text):\n",
    "    stop_words= set(stopwords.words('english'))\n",
    "    lemmatizer= WordNetLemmatizer()\n",
    "    tokens= nltk.word_tokenize(text.lower())\n",
    "    tokens= [token for token in tokens if token.isalpha() and token not in stop_words]\n",
    "    tokens= [lemmatizer.lemmatize(token) for token in tokens]\n",
    "    return ' '.join(tokens)\n",
    "\n",
    "documents= [(list(movie_reviews.words(fileid)), category)\n",
    "             for category in movie_reviews.categories()\n",
    "             for fileid in movie_reviews.fileids(category)]\n",
    "\n",
    "preprocessed_doc= [(preprocess(' '.join(text)), label) for (text, label) in documents]"
   ]
  },
  {
   "cell_type": "code",
   "execution_count": 17,
   "id": "299d8979",
   "metadata": {
    "scrolled": true
   },
   "outputs": [
    {
     "name": "stdout",
     "output_type": "stream",
     "text": [
      "Accuracy: 0.8075 \n",
      "\n",
      "Your review: The movie was amazing!\n"
     ]
    }
   ],
   "source": [
    "vectorizer= CountVectorizer()\n",
    "X= vectorizer.fit_transform([text for text, _ in preprocessed_doc])\n",
    "y= [label for _, label in preprocessed_doc]\n",
    "\n",
    "classifier= MultinomialNB()\n",
    "classifier.fit(X, y)\n",
    "\n",
    "X_train, X_test, y_train, y_test= train_test_split(X, y, test_size=0.2, random_state=42)\n",
    "\n",
    "classifier.fit(X_train, y_train)\n",
    "\n",
    "y_pred= classifier.predict(X_test)\n",
    "\n",
    "accuracy= accuracy_score(y_test, y_pred)\n",
    "print(\"Accuracy:\", accuracy,\"\\n\")\n",
    "\n",
    "new_reviews= input(\"Your review: \")\n",
    "reviews= sent_tokenize(new_reviews)"
   ]
  },
  {
   "cell_type": "code",
   "execution_count": 18,
   "id": "6b44228b",
   "metadata": {},
   "outputs": [],
   "source": [
    "preprocessed_new_reviews= [preprocess(rev) for rev in reviews]"
   ]
  },
  {
   "cell_type": "code",
   "execution_count": 19,
   "id": "b77310b8",
   "metadata": {},
   "outputs": [
    {
     "name": "stdout",
     "output_type": "stream",
     "text": [
      "Review:  The movie was amazing!\n",
      "Class:  pos\n"
     ]
    }
   ],
   "source": [
    "X_new= vectorizer.transform(preprocessed_new_reviews)\n",
    "y_new_pred= classifier.predict(X_new)\n",
    "\n",
    "for review, sentiment in zip(reviews, y_new_pred):\n",
    "    print(\"Review: \", review)\n",
    "    print(\"Class: \", sentiment)"
   ]
  }
 ],
 "metadata": {
  "kernelspec": {
   "display_name": "Python 3 (ipykernel)",
   "language": "python",
   "name": "python3"
  },
  "language_info": {
   "codemirror_mode": {
    "name": "ipython",
    "version": 3
   },
   "file_extension": ".py",
   "mimetype": "text/x-python",
   "name": "python",
   "nbconvert_exporter": "python",
   "pygments_lexer": "ipython3",
   "version": "3.9.12"
  }
 },
 "nbformat": 4,
 "nbformat_minor": 5
}
