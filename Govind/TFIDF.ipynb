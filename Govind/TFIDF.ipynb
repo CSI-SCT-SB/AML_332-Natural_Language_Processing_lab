{
 "cells": [
  {
   "cell_type": "code",
   "execution_count": 1,
   "id": "135155e1",
   "metadata": {},
   "outputs": [],
   "source": [
    "import nltk\n",
    "import numpy\n",
    "from nltk import punkt\n",
    "from nltk.corpus import stopwords\n",
    "from nltk.tokenize import word_tokenize,sent_tokenize\n",
    "from nltk.stem import PorterStemmer\n",
    "from sklearn.feature_extraction.text import TfidfVectorizer"
   ]
  },
  {
   "cell_type": "code",
   "execution_count": 2,
   "id": "c47ddbcd",
   "metadata": {},
   "outputs": [
    {
     "name": "stdout",
     "output_type": "stream",
     "text": [
      "I am eating orange icecream but I love chocolate icecream.\n"
     ]
    }
   ],
   "source": [
    "file1=open('bag.txt','r')\n",
    "text=file1.read()\n",
    "print(text)"
   ]
  },
  {
   "cell_type": "code",
   "execution_count": 3,
   "id": "1c032b9f",
   "metadata": {},
   "outputs": [
    {
     "name": "stdout",
     "output_type": "stream",
     "text": [
      "The documents are:\n",
      " ['I am eat orang icecream but I love chocol icecream']\n"
     ]
    }
   ],
   "source": [
    "doc=sent_tokenize(text)\n",
    "stop_words=set(stopwords.words('english'))\n",
    "ps=PorterStemmer()\n",
    "i=0\n",
    "while(i<len(doc)):\n",
    "    tokens=word_tokenize(doc[i])\n",
    "    for token in tokens:\n",
    "        token=token.lower()\n",
    "        if token.isalpha():\n",
    "            doc[i] = doc[i].replace(token,ps.stem(token))\n",
    "        else:\n",
    "            doc[i] = doc[i].replace(token,\"\")\n",
    "    i+=1\n",
    "print('The documents are:\\n',doc)"
   ]
  },
  {
   "cell_type": "code",
   "execution_count": 4,
   "id": "0c6a15e9",
   "metadata": {},
   "outputs": [
    {
     "name": "stdout",
     "output_type": "stream",
     "text": [
      "The vocabulary is:\n",
      " ['chocol' 'eat' 'icecream' 'love' 'orang']\n",
      "\n",
      "The TF-IDF is:\n",
      " [[0.35355339 0.35355339 0.70710678 0.35355339 0.35355339]]\n"
     ]
    },
    {
     "name": "stderr",
     "output_type": "stream",
     "text": [
      "C:\\ProgramData\\Anaconda3\\lib\\site-packages\\sklearn\\feature_extraction\\text.py:396: UserWarning: Your stop_words may be inconsistent with your preprocessing. Tokenizing the stop words generated tokens [\"'d\", \"'ll\", \"'re\", \"'s\", \"'ve\", 'could', 'might', 'must', \"n't\", 'need', 'sha', 'wo', 'would'] not in stop_words.\n",
      "  warnings.warn(\n"
     ]
    }
   ],
   "source": [
    "vectorizer=TfidfVectorizer(\n",
    "    tokenizer=word_tokenize,\n",
    "    stop_words=stop_words\n",
    ")\n",
    "tfidf=vectorizer.fit_transform(doc)\n",
    "print(\"The vocabulary is:\\n\",vectorizer.get_feature_names_out())\n",
    "print(\"\\nThe TF-IDF is:\\n\",tfidf.toarray())"
   ]
  }
 ],
 "metadata": {
  "kernelspec": {
   "display_name": "Python 3 (ipykernel)",
   "language": "python",
   "name": "python3"
  },
  "language_info": {
   "codemirror_mode": {
    "name": "ipython",
    "version": 3
   },
   "file_extension": ".py",
   "mimetype": "text/x-python",
   "name": "python",
   "nbconvert_exporter": "python",
   "pygments_lexer": "ipython3",
   "version": "3.9.12"
  }
 },
 "nbformat": 4,
 "nbformat_minor": 5
}
