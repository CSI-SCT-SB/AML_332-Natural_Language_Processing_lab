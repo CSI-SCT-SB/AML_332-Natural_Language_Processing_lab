{
 "cells": [
  {
   "cell_type": "code",
   "execution_count": 1,
   "id": "e3e4806f",
   "metadata": {},
   "outputs": [],
   "source": [
    "import nltk\n",
    "from nltk.tokenize import word_tokenize"
   ]
  },
  {
   "cell_type": "code",
   "execution_count": 2,
   "id": "38410bbc",
   "metadata": {},
   "outputs": [
    {
     "name": "stdout",
     "output_type": "stream",
     "text": [
      "Enter text : Hi, I love chocolate ice cream.\n",
      "Total words :  8\n"
     ]
    }
   ],
   "source": [
    "#1\n",
    "text = input(\"Enter text : \")\n",
    "tokens = word_tokenize(text)\n",
    "print(\"Total words : \", len(tokens))"
   ]
  },
  {
   "cell_type": "code",
   "execution_count": 3,
   "id": "7c042bc8",
   "metadata": {},
   "outputs": [
    {
     "name": "stdout",
     "output_type": "stream",
     "text": [
      "Enter text : Hi, I love chocolate ice cream.\n",
      "Different words :  8\n"
     ]
    },
    {
     "data": {
      "text/plain": [
       "[('ice', 'NN'),\n",
       " ('I', 'PRP'),\n",
       " ('Hi', 'NNP'),\n",
       " (',', ','),\n",
       " ('love', 'VB'),\n",
       " ('chocolate', 'NN'),\n",
       " ('.', '.'),\n",
       " ('cream', 'NN')]"
      ]
     },
     "execution_count": 3,
     "metadata": {},
     "output_type": "execute_result"
    }
   ],
   "source": [
    "#2\n",
    "text = input(\"Enter text : \")\n",
    "tokens = set(word_tokenize(text))\n",
    "tokens\n",
    "tag = nltk.pos_tag(tokens)\n",
    "print(\"Different words : \", len(tokens))\n",
    "tag"
   ]
  },
  {
   "cell_type": "code",
   "execution_count": 4,
   "id": "da4e1e98",
   "metadata": {},
   "outputs": [
    {
     "name": "stdout",
     "output_type": "stream",
     "text": [
      "Enter text : Hi, I love chocolate ice cream.\n"
     ]
    },
    {
     "data": {
      "text/plain": [
       "FreqDist({'Hi': 1, ',': 1, 'I': 1, 'love': 1, 'chocolate': 1, 'ice': 1, 'cream': 1, '.': 1})"
      ]
     },
     "execution_count": 4,
     "metadata": {},
     "output_type": "execute_result"
    }
   ],
   "source": [
    "#3\n",
    "text = input(\"Enter text : \")\n",
    "words = nltk.word_tokenize(text)\n",
    "fdist = nltk.FreqDist(words)\n",
    "fdist"
   ]
  },
  {
   "cell_type": "code",
   "execution_count": 5,
   "id": "b8ccddb4",
   "metadata": {},
   "outputs": [
    {
     "name": "stdout",
     "output_type": "stream",
     "text": [
      "Enter text : Hi, I love chocolate ice cream.\n",
      "Hi : 12.5\n",
      ", : 12.5\n",
      "I : 12.5\n",
      "love : 12.5\n",
      "chocolate : 12.5\n",
      "ice : 12.5\n",
      "cream : 12.5\n",
      ". : 12.5\n"
     ]
    }
   ],
   "source": [
    "#4\n",
    "text = input(\"Enter text : \")\n",
    "words = nltk.word_tokenize(text)\n",
    "fdist = nltk.FreqDist(words)\n",
    "fdist\n",
    "for i in fdist:\n",
    "    print(i + ' :', (fdist[i] / len(words)) * 100)"
   ]
  }
 ],
 "metadata": {
  "kernelspec": {
   "display_name": "Python 3 (ipykernel)",
   "language": "python",
   "name": "python3"
  },
  "language_info": {
   "codemirror_mode": {
    "name": "ipython",
    "version": 3
   },
   "file_extension": ".py",
   "mimetype": "text/x-python",
   "name": "python",
   "nbconvert_exporter": "python",
   "pygments_lexer": "ipython3",
   "version": "3.9.12"
  }
 },
 "nbformat": 4,
 "nbformat_minor": 5
}
