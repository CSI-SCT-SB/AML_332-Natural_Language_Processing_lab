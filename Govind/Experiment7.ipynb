{
 "cells": [
  {
   "cell_type": "code",
   "execution_count": 3,
   "id": "29916037",
   "metadata": {},
   "outputs": [
    {
     "name": "stdout",
     "output_type": "stream",
     "text": [
      "Text FILE :\n",
      "['Once upon a time there was a dog.', 'His name was Charlie.', 'He was an orphan.', 'Someone should adopt him.', 'He likes to eat chicken.']\n",
      "Enter the text  :I like to eat icecream.\n",
      "Input sentence:  I like to eat icecream.\n",
      "Most similar sentence:  He likes to eat chicken.\n",
      "Cosine similarity score:  0.4472135954999579\n"
     ]
    },
    {
     "data": {
      "text/plain": [
       "array([[1.        , 0.20412415, 0.20412415, 0.        , 0.        ,\n",
       "        0.        ],\n",
       "       [0.20412415, 1.        , 0.25      , 0.        , 0.        ,\n",
       "        0.        ],\n",
       "       [0.20412415, 0.25      , 1.        , 0.        , 0.2236068 ,\n",
       "        0.        ],\n",
       "       [0.        , 0.        , 0.        , 1.        , 0.        ,\n",
       "        0.        ],\n",
       "       [0.        , 0.        , 0.2236068 , 0.        , 1.        ,\n",
       "        0.4472136 ],\n",
       "       [0.        , 0.        , 0.        , 0.        , 0.4472136 ,\n",
       "        1.        ]])"
      ]
     },
     "execution_count": 3,
     "metadata": {},
     "output_type": "execute_result"
    }
   ],
   "source": [
    "import nltk\n",
    "import numpy as np\n",
    "from sklearn.feature_extraction.text import CountVectorizer\n",
    "from sklearn.metrics.pairwise import cosine_similarity\n",
    "\n",
    "with open('book.txt', 'r') as f:\n",
    "    sentences = [line.strip() for line in f]\n",
    "    \n",
    "print(\"Text FILE :\")\n",
    "print(sentences)\n",
    "\n",
    "input_sentence = input(\"Enter the text  :\")\n",
    "sentences.append(input_sentence)\n",
    "vectorizer = CountVectorizer().fit_transform(sentences)\n",
    "vectors = vectorizer.toarray()\n",
    "cosine_similarities = cosine_similarity(vectors)\n",
    "input_sentence_index = len(sentences) - 1\n",
    "similar_sentence_index = np.argmax(cosine_similarities[input_sentence_index][:-1])\n",
    "print(\"Input sentence:           \", input_sentence)\n",
    "print(\"Most similar sentence:    \", sentences[similar_sentence_index])\n",
    "print(\"Cosine similarity score:  \", cosine_similarities[input_sentence_index][similar_sentence_index])\n",
    "\n",
    "cosine_similarities"
   ]
  }
 ],
 "metadata": {
  "kernelspec": {
   "display_name": "Python 3 (ipykernel)",
   "language": "python",
   "name": "python3"
  },
  "language_info": {
   "codemirror_mode": {
    "name": "ipython",
    "version": 3
   },
   "file_extension": ".py",
   "mimetype": "text/x-python",
   "name": "python",
   "nbconvert_exporter": "python",
   "pygments_lexer": "ipython3",
   "version": "3.9.12"
  }
 },
 "nbformat": 4,
 "nbformat_minor": 5
}
