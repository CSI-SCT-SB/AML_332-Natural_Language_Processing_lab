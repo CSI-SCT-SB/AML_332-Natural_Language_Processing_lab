{
 "cells": [
  {
   "cell_type": "code",
   "execution_count": 1,
   "id": "51daaaee",
   "metadata": {},
   "outputs": [],
   "source": [
    "import nltk\n",
    "import re\n",
    "from nltk.tokenize import word_tokenize\n",
    "from nltk.corpus import stopwords\n",
    "from nltk.stem import PorterStemmer"
   ]
  },
  {
   "cell_type": "code",
   "execution_count": 2,
   "id": "de1a42ab",
   "metadata": {},
   "outputs": [
    {
     "name": "stdout",
     "output_type": "stream",
     "text": [
      "Enter text : Hi, I love eating chocolate ice cream.\n"
     ]
    },
    {
     "data": {
      "text/plain": [
       "['hi', 'love', 'eat', 'chocol', 'ice', 'cream']"
      ]
     },
     "execution_count": 2,
     "metadata": {},
     "output_type": "execute_result"
    }
   ],
   "source": [
    "text = input(\"Enter text : \")\n",
    "text = text.lower()\n",
    "tokens = word_tokenize(text)\n",
    "\n",
    "words = word_tokenize(text)\n",
    "words = [word for word in words if re.match('[a-zA-Z]+$', word)]\n",
    "\n",
    "stop_words = set(stopwords.words('english'))\n",
    "words = [word for word in words if not word in stop_words]\n",
    "\n",
    "stemmer = PorterStemmer()\n",
    "words = [stemmer.stem(word) for word in words]\n",
    "\n",
    "words"
   ]
  },
  {
   "cell_type": "code",
   "execution_count": null,
   "id": "e624cad0",
   "metadata": {},
   "outputs": [],
   "source": []
  }
 ],
 "metadata": {
  "kernelspec": {
   "display_name": "Python 3 (ipykernel)",
   "language": "python",
   "name": "python3"
  },
  "language_info": {
   "codemirror_mode": {
    "name": "ipython",
    "version": 3
   },
   "file_extension": ".py",
   "mimetype": "text/x-python",
   "name": "python",
   "nbconvert_exporter": "python",
   "pygments_lexer": "ipython3",
   "version": "3.9.12"
  }
 },
 "nbformat": 4,
 "nbformat_minor": 5
}
