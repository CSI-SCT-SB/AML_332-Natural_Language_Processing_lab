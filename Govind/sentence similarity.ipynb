{
 "cells": [
  {
   "cell_type": "markdown",
   "id": "eb4f49d2",
   "metadata": {},
   "source": [
    "## Sentence Similarity"
   ]
  },
  {
   "cell_type": "code",
   "execution_count": 1,
   "id": "0263efcb",
   "metadata": {},
   "outputs": [],
   "source": [
    "import nltk\n",
    "import re\n",
    "from nltk.tokenize import sent_tokenize, word_tokenize\n",
    "from nltk.corpus import stopwords\n",
    "from nltk.stem import PorterStemmer\n",
    "from sklearn.feature_extraction.text import TfidfVectorizer\n",
    "from sklearn.metrics.pairwise import cosine_similarity"
   ]
  },
  {
   "cell_type": "code",
   "execution_count": 2,
   "id": "a3a733cf",
   "metadata": {},
   "outputs": [],
   "source": [
    "def preprocessed(text):\n",
    "    sentences = sent_tokenize(text.lower())\n",
    "    doc = re.sub('<.*?>','',text)\n",
    "    words = [word_tokenize(sentence) for sentence in sentences]\n",
    "\n",
    "    words = [[word for word in sentence if word.isalpha() and word not in stopwords.words('english')]for sentence in words ]\n",
    "    ps = PorterStemmer()\n",
    "    filt_words = [[ps.stem(word) for word in sentence] for sentence in words ]\n",
    "    filt_sentence = [' ' .join(sentence) for sentence in filt_words]\n",
    "    \n",
    "\n",
    "    return filt_sentence  "
   ]
  },
  {
   "cell_type": "code",
   "execution_count": 3,
   "id": "a6da0519",
   "metadata": {},
   "outputs": [],
   "source": [
    "with open ('./text3.txt','r') as file :\n",
    "    text = file.read()\n",
    "    \n",
    "    \n",
    "sentence = preprocessed(text)\n",
    "act_sentence = sent_tokenize(text)\n",
    "# print(sentence)"
   ]
  },
  {
   "cell_type": "code",
   "execution_count": 5,
   "id": "298bc503",
   "metadata": {},
   "outputs": [
    {
     "name": "stdout",
     "output_type": "stream",
     "text": [
      "Enter a word : birds\n",
      "along human anim bird also find habitat mean surviv natur\n"
     ]
    }
   ],
   "source": [
    "input_sentence = input(\"Enter a word : \")\n",
    "\n",
    "input_sentence = preprocessed(input_sentence)[0]\n",
    "\n",
    "vectorizer = TfidfVectorizer()\n",
    "sentence_vectors = vectorizer.fit_transform(sentence)\n",
    "\n",
    "input_vector = vectorizer.transform([input_sentence])\n",
    "similarities = cosine_similarity(input_vector,sentence_vectors)\n",
    "most_similiar_index = similarities.argmax()\n",
    "\n",
    "print(sentence[most_similiar_index])"
   ]
  },
  {
   "cell_type": "code",
   "execution_count": null,
   "id": "e2fd93e3",
   "metadata": {},
   "outputs": [],
   "source": []
  },
  {
   "cell_type": "code",
   "execution_count": null,
   "id": "c9121f89",
   "metadata": {},
   "outputs": [],
   "source": []
  }
 ],
 "metadata": {
  "kernelspec": {
   "display_name": "Python 3 (ipykernel)",
   "language": "python",
   "name": "python3"
  },
  "language_info": {
   "codemirror_mode": {
    "name": "ipython",
    "version": 3
   },
   "file_extension": ".py",
   "mimetype": "text/x-python",
   "name": "python",
   "nbconvert_exporter": "python",
   "pygments_lexer": "ipython3",
   "version": "3.9.12"
  }
 },
 "nbformat": 4,
 "nbformat_minor": 5
}
