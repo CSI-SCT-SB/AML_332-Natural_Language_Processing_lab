{
 "cells": [
  {
   "cell_type": "code",
   "execution_count": 7,
   "id": "5d825e4b",
   "metadata": {},
   "outputs": [],
   "source": [
    "import nltk\n",
    "from nltk.corpus import brown"
   ]
  },
  {
   "cell_type": "code",
   "execution_count": 8,
   "id": "ac1011e3",
   "metadata": {},
   "outputs": [],
   "source": [
    "def train_hmm_tagger () :\n",
    "    tagged_sentence = brown.tagged_sents(categories = 'news')\n",
    "    size = int(len(tagged_sentence)*0.9)\n",
    "    trained_sents = tagged_sentence[:size]\n",
    "    test_sents = tagged_sentence[size:]\n",
    "    symbols = set([word for sentence in tagged_sentence for word,_ in sentence ])\n",
    "    states = set([tag for sentence in tagged_sentence for _,tag in sentence])\n",
    "    trainer = nltk.tag.hmm.HiddenMarkovModelTrainer(states = states , symbols = symbols)\n",
    "    hmm_tagger = trainer.train_supervised(tagged_sentence)\n",
    "    return hmm_tagger\n",
    "    "
   ]
  },
  {
   "cell_type": "code",
   "execution_count": 9,
   "id": "b529d90d",
   "metadata": {},
   "outputs": [],
   "source": [
    "def pos_tag_sentence(sentence, hmm_tagger):\n",
    "    tokens = nltk.word_tokenize(sentence)\n",
    "    tagged_tokens = hmm_tagger.tag(tokens)\n",
    "    return tagged_tokens"
   ]
  },
  {
   "cell_type": "code",
   "execution_count": 10,
   "id": "7dfb9a68",
   "metadata": {},
   "outputs": [
    {
     "name": "stdout",
     "output_type": "stream",
     "text": [
      "Enter the sentence to be tagged ? i am feeling sleepy\n",
      "[('i', 'DT-HL'), ('am', 'DT-HL'), ('feeling', 'DT-HL'), ('sleepy', 'DT-HL')]\n"
     ]
    }
   ],
   "source": [
    "hmm_tagger = train_hmm_tagger()\n",
    "sentence = input(\"Enter the sentence to be tagged ? \")\n",
    "tagged = pos_tag_sentence(sentence, hmm_tagger)\n",
    "print(tagged)"
   ]
  },
  {
   "cell_type": "code",
   "execution_count": 11,
   "id": "09dc0dad",
   "metadata": {},
   "outputs": [
    {
     "data": {
      "text/plain": [
       "<HiddenMarkovModelTagger 218 states and 14394 output symbols>"
      ]
     },
     "execution_count": 11,
     "metadata": {},
     "output_type": "execute_result"
    }
   ],
   "source": [
    "train_hmm_tagger()"
   ]
  },
  {
   "cell_type": "code",
   "execution_count": null,
   "id": "075db66b",
   "metadata": {},
   "outputs": [],
   "source": []
  }
 ],
 "metadata": {
  "kernelspec": {
   "display_name": "Python 3 (ipykernel)",
   "language": "python",
   "name": "python3"
  },
  "language_info": {
   "codemirror_mode": {
    "name": "ipython",
    "version": 3
   },
   "file_extension": ".py",
   "mimetype": "text/x-python",
   "name": "python",
   "nbconvert_exporter": "python",
   "pygments_lexer": "ipython3",
   "version": "3.9.12"
  }
 },
 "nbformat": 4,
 "nbformat_minor": 5
}
