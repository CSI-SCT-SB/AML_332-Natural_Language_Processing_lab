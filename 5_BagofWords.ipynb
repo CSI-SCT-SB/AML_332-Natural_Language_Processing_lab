{
  "nbformat": 4,
  "nbformat_minor": 0,
  "metadata": {
    "colab": {
      "provenance": [],
      "authorship_tag": "ABX9TyOmOCOlSKR9ozjMP/YMdViX",
      "include_colab_link": true
    },
    "kernelspec": {
      "name": "python3",
      "display_name": "Python 3"
    },
    "language_info": {
      "name": "python"
    }
  },
  "cells": [
    {
      "cell_type": "markdown",
      "metadata": {
        "id": "view-in-github",
        "colab_type": "text"
      },
      "source": [
        "<a href=\"https://colab.research.google.com/github/GOVINDFROMINDIA/AML_332-Natural_Language_Processing_lab/blob/main/5_BagofWords.ipynb\" target=\"_parent\"><img src=\"https://colab.research.google.com/assets/colab-badge.svg\" alt=\"Open In Colab\"/></a>"
      ]
    },
    {
      "cell_type": "code",
      "execution_count": 7,
      "metadata": {
        "colab": {
          "base_uri": "https://localhost:8080/"
        },
        "id": "qwLJNieJfyCb",
        "outputId": "53b3bc7f-3384-42b5-ab18-98a33e6ce085"
      },
      "outputs": [
        {
          "output_type": "stream",
          "name": "stderr",
          "text": [
            "[nltk_data] Downloading package punkt to /root/nltk_data...\n",
            "[nltk_data]   Package punkt is already up-to-date!\n"
          ]
        },
        {
          "output_type": "stream",
          "name": "stdout",
          "text": [
            "Enter a sentence: I want to fly away from my boring life.\n",
            "Counter({'i': 1, 'want': 1, 'to': 1, 'fli': 1, 'away': 1, 'from': 1, 'my': 1, 'bore': 1, 'life': 1, '.': 1})\n"
          ]
        }
      ],
      "source": [
        "import nltk\n",
        "from nltk.tokenize import word_tokenize\n",
        "from nltk.stem import PorterStemmer\n",
        "from collections import Counter\n",
        "nltk.download('punkt')\n",
        "\n",
        "text = input(\"Enter a sentence: \")\n",
        "tokens = word_tokenize(text)\n",
        "stemmer = PorterStemmer()\n",
        "bag_of_words = Counter([stemmer.stem(token) for token in tokens])\n",
        "print(bag_of_words)\n",
        "\n"
      ]
    }
  ]
}