{
  "nbformat": 4,
  "nbformat_minor": 0,
  "metadata": {
    "colab": {
      "provenance": [],
      "authorship_tag": "ABX9TyONkQjsKoelSpl+ezX7GU5c",
      "include_colab_link": true
    },
    "kernelspec": {
      "name": "python3",
      "display_name": "Python 3"
    },
    "language_info": {
      "name": "python"
    }
  },
  "cells": [
    {
      "cell_type": "markdown",
      "metadata": {
        "id": "view-in-github",
        "colab_type": "text"
      },
      "source": [
        "<a href=\"https://colab.research.google.com/github/GOVINDFROMINDIA/AML_332-Natural_Language_Processing_lab/blob/main/Concordance.ipynb\" target=\"_parent\"><img src=\"https://colab.research.google.com/assets/colab-badge.svg\" alt=\"Open In Colab\"/></a>"
      ]
    },
    {
      "cell_type": "code",
      "execution_count": 3,
      "metadata": {
        "colab": {
          "base_uri": "https://localhost:8080/"
        },
        "id": "qwLJNieJfyCb",
        "outputId": "266b26c9-ef55-46e5-d5fa-2393e29b2506"
      },
      "outputs": [
        {
          "output_type": "stream",
          "name": "stderr",
          "text": [
            "[nltk_data] Downloading package punkt to /root/nltk_data...\n",
            "[nltk_data]   Unzipping tokenizers/punkt.zip.\n"
          ]
        },
        {
          "output_type": "stream",
          "name": "stdout",
          "text": [
            "Enter a sentence: Apple a day can keep a doctor away \n",
            "Enter a word to search: doctor\n",
            "Displaying 1 of 1 matches:\n",
            "Apple a day can keep a doctor away\n"
          ]
        }
      ],
      "source": [
        "import nltk\n",
        "from nltk.tokenize import word_tokenize\n",
        "nltk.download('punkt')\n",
        "\n",
        "\n",
        "text = input(\"Enter a sentence: \")\n",
        "word = input(\"Enter a word to search: \")\n",
        "\n",
        "tokens = nltk.word_tokenize(text)\n",
        "text_obj = nltk.Text(tokens)\n",
        "\n",
        "text_obj.concordance(word)\n"
      ]
    }
  ]
}
