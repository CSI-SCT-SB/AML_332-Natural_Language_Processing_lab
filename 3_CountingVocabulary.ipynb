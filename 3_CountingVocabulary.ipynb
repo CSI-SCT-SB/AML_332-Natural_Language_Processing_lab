{
  "nbformat": 4,
  "nbformat_minor": 0,
  "metadata": {
    "colab": {
      "provenance": [],
      "authorship_tag": "ABX9TyPGXqnqEhqXP2ae2C3X7arK",
      "include_colab_link": true
    },
    "kernelspec": {
      "name": "python3",
      "display_name": "Python 3"
    },
    "language_info": {
      "name": "python"
    }
  },
  "cells": [
    {
      "cell_type": "markdown",
      "metadata": {
        "id": "view-in-github",
        "colab_type": "text"
      },
      "source": [
        "<a href=\"https://colab.research.google.com/github/GOVINDFROMINDIA/AML_332-Natural_Language_Processing_lab/blob/main/3_CountingVocabulary.ipynb\" target=\"_parent\"><img src=\"https://colab.research.google.com/assets/colab-badge.svg\" alt=\"Open In Colab\"/></a>"
      ]
    },
    {
      "cell_type": "markdown",
      "source": [
        "**3a. How many tokens are there in a given text**"
      ],
      "metadata": {
        "id": "gSDMv7Jpl_Az"
      }
    },
    {
      "cell_type": "code",
      "execution_count": 4,
      "metadata": {
        "colab": {
          "base_uri": "https://localhost:8080/"
        },
        "id": "qwLJNieJfyCb",
        "outputId": "16b45b9b-22d9-4a8b-c09c-81ec65749c1b"
      },
      "outputs": [
        {
          "output_type": "stream",
          "name": "stderr",
          "text": [
            "[nltk_data] Downloading package punkt to /root/nltk_data...\n",
            "[nltk_data]   Package punkt is already up-to-date!\n"
          ]
        },
        {
          "output_type": "stream",
          "name": "stdout",
          "text": [
            "Enter a sentence: I want to buy an apple phone, but I cannot even buy a regular apple\n",
            "No. of tokens  17\n"
          ]
        }
      ],
      "source": [
        "import nltk\n",
        "from nltk.tokenize import word_tokenize\n",
        "nltk.download('punkt')\n",
        "\n",
        "\n",
        "text = input(\"Enter a sentence: \")\n",
        "tokens = nltk.word_tokenize(text)\n",
        "print(\"No. of tokens \",len(tokens))\n"
      ]
    },
    {
      "cell_type": "markdown",
      "source": [
        "**3b. How many different word types there in given text**"
      ],
      "metadata": {
        "id": "gEZqAYgemK43"
      }
    },
    {
      "cell_type": "code",
      "source": [
        "import nltk\n",
        "from nltk.tokenize import word_tokenize\n",
        "nltk.download('punkt')\n",
        "\n",
        "text = input(\"Enter a sentence: \")\n",
        "tokens = word_tokenize(text)\n",
        "types = len(set(tokens))\n",
        "print(\"Number of different word types:\", types)"
      ],
      "metadata": {
        "colab": {
          "base_uri": "https://localhost:8080/"
        },
        "id": "VJ9U8cL3mIfD",
        "outputId": "d7aa31d2-9cd5-4137-84e7-1a1bd73102b2"
      },
      "execution_count": 5,
      "outputs": [
        {
          "output_type": "stream",
          "name": "stderr",
          "text": [
            "[nltk_data] Downloading package punkt to /root/nltk_data...\n",
            "[nltk_data]   Package punkt is already up-to-date!\n"
          ]
        },
        {
          "output_type": "stream",
          "name": "stdout",
          "text": [
            "Enter a sentence: I want to buy an apple phone, but I cannot even buy a regular apple\n",
            "Number of different word types: 14\n"
          ]
        }
      ]
    },
    {
      "cell_type": "markdown",
      "source": [
        "**3c. How many times does the word Count**"
      ],
      "metadata": {
        "id": "RhsbkMajo75f"
      }
    },
    {
      "cell_type": "code",
      "source": [
        "import nltk\n",
        "from nltk.tokenize import word_tokenize\n",
        "from nltk.probability import FreqDist\n",
        "nltk.download('punkt')\n",
        "\n",
        "text = input(\"Enter a sentence: \")\n",
        "tokens = word_tokenize(text)\n",
        "fdist = FreqDist(tokens)\n",
        "word_counts = dict(fdist)\n",
        "for word, count in word_counts.items():\n",
        "  print(word,\": \",count)"
      ],
      "metadata": {
        "colab": {
          "base_uri": "https://localhost:8080/"
        },
        "id": "wqVcIoP2pDwP",
        "outputId": "1f906c7c-cdbd-4ad8-e7ec-fe6374ea0f37"
      },
      "execution_count": 7,
      "outputs": [
        {
          "output_type": "stream",
          "name": "stderr",
          "text": [
            "[nltk_data] Downloading package punkt to /root/nltk_data...\n",
            "[nltk_data]   Package punkt is already up-to-date!\n"
          ]
        },
        {
          "output_type": "stream",
          "name": "stdout",
          "text": [
            "Enter a sentence: I want to buy an apple phone, but I cannot even buy a regular apple\n",
            "I :  2\n",
            "want :  1\n",
            "to :  1\n",
            "buy :  2\n",
            "an :  1\n",
            "apple :  2\n",
            "phone :  1\n",
            ", :  1\n",
            "but :  1\n",
            "can :  1\n",
            "not :  1\n",
            "even :  1\n",
            "a :  1\n",
            "regular :  1\n"
          ]
        }
      ]
    }
  ]
}